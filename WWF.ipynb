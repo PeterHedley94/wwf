{
 "cells": [
  {
   "cell_type": "code",
   "execution_count": 1,
   "metadata": {},
   "outputs": [],
   "source": [
    "import requests"
   ]
  },
  {
   "cell_type": "code",
   "execution_count": 2,
   "metadata": {},
   "outputs": [],
   "source": [
    "headers = {\n",
    "    'cookie': 'questionnaire_id=Yi0JTzi4eO74I4hBN61G6z84pFy1lg7MIj6s1XSJ; newsletter=eyJpdiI6IkZcL2ZKVVwvT0R5dGpzdEdMaGJGdXV0UT09IiwidmFsdWUiOiJiZjA0Zm5kM2tBYldURCt0WWNXQ2pRPT0iLCJtYWMiOiI0MGExYThiODgwYzI4NThjY2MxMWFlMWI4ZTAxZWZmZTVjYjQ0NmI5Mjg0MDYyZmYyODFkNzVlYTk0ZmZjNGJlIn0%3D; _ga=GA1.3.997028417.1555148484; _gid=GA1.3.344715163.1555148484; _gat=1; XSRF-TOKEN=eyJpdiI6IlpWdWRsdzZOQW5WSDBxclwvYjRqcHdBPT0iLCJ2YWx1ZSI6Ikd4R3h6NDdZU2RmTXFqRmljOGp1elJqd1ZvXC9tYUZLcGs1RzJucXdJcUs3K2ZJU08ra21zZlh1SzZCTGVQeTNJUldVSndXZW1XbGR3aHp2VHFreGdaUT09IiwibWFjIjoiZmJmYTg2MWVjNzM3MDc2YTAzZmEyODliNzY5M2RjYmZkNDM1NTEyNDYwNWM0ZmIwMDcyNmRjYWJiNWNmZWNiOCJ9; footprint_calculator_31_session=eyJpdiI6IkJMUWFLYm5CYjBUYVFUXC8wbXZNandRPT0iLCJ2YWx1ZSI6ImtRT0lybVwvdTRZNjRoRG5QZ29EZm5lWmVBdlwvSmFaZVROWXFsc2g3djZnSVpHXC9MS3lFcVFjeEtWYXRkY1VMNk9zaDRhd1A2amxUa0RKWHNUXC8xVDhuZz09IiwibWFjIjoiOTU3MmRlNWZlZGE5MmViYTY2ZmMyYzVhN2Y3NGNlOTFlOTU4NjQxZTUxMTFkMWNkM2ZmYTQ1NGRiYjM1MjcwNiJ9; __utma=254353495.997028417.1555148484.1555148485.1555148485.1; __utmc=254353495; __utmz=254353495.1555148485.1.1.utmcsr=(direct)|utmccn=(direct)|utmcmd=(none); __utmt=1; __utmb=254353495.1.10.1555148485',\n",
    "    'origin': 'https://footprint.wwf.org.uk',\n",
    "    'x-xsrf-token': 'eyJpdiI6IlpWdWRsdzZOQW5WSDBxclwvYjRqcHdBPT0iLCJ2YWx1ZSI6Ikd4R3h6NDdZU2RmTXFqRmljOGp1elJqd1ZvXC9tYUZLcGs1RzJucXdJcUs3K2ZJU08ra21zZlh1SzZCTGVQeTNJUldVSndXZW1XbGR3aHp2VHFreGdaUT09IiwibWFjIjoiZmJmYTg2MWVjNzM3MDc2YTAzZmEyODliNzY5M2RjYmZkNDM1NTEyNDYwNWM0ZmIwMDcyNmRjYWJiNWNmZWNiOCJ9',\n",
    "    'x-csrf-token': '3M6XXGXobUf07LmaWP4JOXu161gZ7IDqhVef65Sh',\n",
    "    'accept-language': 'en-US,en;q=0.9,fr;q=0.8',\n",
    "    'x-requested-with': 'XMLHttpRequest',\n",
    "    'accept-encoding': 'gzip, deflate, br',\n",
    "    'user-agent': 'Mozilla/5.0 (X11; Linux x86_64) AppleWebKit/537.36 (KHTML, like Gecko) Chrome/65.0.3325.181 Safari/537.36',\n",
    "    'content-type': 'application/x-www-form-urlencoded',\n",
    "    'accept': 'application/json, text/plain, */*',\n",
    "    'referer': 'https://footprint.wwf.org.uk/',\n",
    "    'authority': 'footprint.wwf.org.uk',\n",
    "    'dnt': '1',\n",
    "}"
   ]
  },
  {
   "cell_type": "code",
   "execution_count": 3,
   "metadata": {},
   "outputs": [
    {
     "name": "stdout",
     "output_type": "stream",
     "text": [
      "200\n",
      "200\n",
      "200\n",
      "200\n",
      "200\n",
      "200\n",
      "200\n",
      "200\n",
      "200\n",
      "200\n",
      "200\n",
      "200\n",
      "200\n",
      "200\n",
      "200\n",
      "200\n",
      "200\n",
      "200\n",
      "200\n",
      "200\n",
      "200\n",
      "200\n",
      "200\n",
      "200\n",
      "200\n",
      "200\n",
      "b''\n",
      "200\n",
      "200\n",
      "200\n",
      "200\n",
      "200\n",
      "200\n",
      "200\n",
      "200\n",
      "200\n",
      "200\n",
      "200\n",
      "200\n",
      "200\n",
      "200\n",
      "200\n",
      "200\n",
      "200\n",
      "200\n",
      "200\n",
      "200\n",
      "200\n",
      "200\n",
      "200\n",
      "200\n",
      "200\n",
      "200\n",
      "b''\n"
     ]
    }
   ],
   "source": [
    "import random\n",
    "import time\n",
    "import numpy as np \n",
    "\n",
    "\n",
    "#TODO!! THESE ARE NOT ALL PERMUTATIONS!!!\n",
    "\n",
    "data = {\n",
    "  'clientId': 'Yi0JTzi4eO74I4hBN61G6z84pFy1lg7MIj6s1XSJ',\n",
    "  'questionnaire': '237751',\n",
    "  'section': '1',\n",
    "  'sec_pos': '1',\n",
    "  'question': '3',\n",
    "  'q_pos': '3',\n",
    "  'multiple': '0',\n",
    "  'total_q': '4',\n",
    "  'total_s': '4',\n",
    "  'state_id': '6084336',\n",
    "  'answer': '9'\n",
    "}\n",
    "\n",
    "q_array = [6,4,4,3,3,6,5,6,6,0,4,4,5,4,4,2,4,0,0,4,4,3,3,4,0]\n",
    "array = np.ones(len(q_array))\n",
    "\n",
    "multi_choice_answer_inc = [6,8,4,5]\n",
    "sections = [0,4,10,18,10000]\n",
    "\n",
    "array[np.array(q_array)==0] = 0\n",
    "    \n",
    "#function to submit a set of answers (array)\n",
    "def get_permutation(questions,answers,sections):\n",
    "    sum_answers=0\n",
    "    section_index = 0\n",
    "    multi_choice_index = 0\n",
    "    for question,answer in enumerate(answers):\n",
    "        orig_q_no = question\n",
    "        if question>=sections[section_index+1]:\n",
    "            section_index+=1\n",
    "                \n",
    "        question=question-sections[section_index]\n",
    "        if answer > 0:\n",
    "            data['question'] = str(question+1)\n",
    "            data['q_pos'] = str(question+1)\n",
    "            data['answer']= str(sum_answers + answer)\n",
    "            data['section'] = str(section_index+1)\n",
    "            data['sec_pos'] = str(section_index+1)\n",
    "        else:\n",
    "            sum_answers+=multi_choice_answer_inc[multi_choice_index]  \n",
    "        time.sleep(0.1)\n",
    "        response = requests.post('https://footprint.wwf.org.uk/api/onscreen/answer', headers=headers, data=data)\n",
    "        sum_answers += questions[orig_q_no]\n",
    " \n",
    "#function to post answers and get survey response\n",
    "def get_answer():\n",
    "    headers = {\n",
    "    'origin': 'https://footprint.wwf.org.uk',\n",
    "    'cookie': 'questionnaire_id=Yi0JTzi4eO74I4hBN61G6z84pFy1lg7MIj6s1XSJ; newsletter=eyJpdiI6IkZcL2ZKVVwvT0R5dGpzdEdMaGJGdXV0UT09IiwidmFsdWUiOiJiZjA0Zm5kM2tBYldURCt0WWNXQ2pRPT0iLCJtYWMiOiI0MGExYThiODgwYzI4NThjY2MxMWFlMWI4ZTAxZWZmZTVjYjQ0NmI5Mjg0MDYyZmYyODFkNzVlYTk0ZmZjNGJlIn0%3D; _ga=GA1.3.997028417.1555148484; _gid=GA1.3.344715163.1555148484; _gat=1; XSRF-TOKEN=eyJpdiI6IlpWdWRsdzZOQW5WSDBxclwvYjRqcHdBPT0iLCJ2YWx1ZSI6Ikd4R3h6NDdZU2RmTXFqRmljOGp1elJqd1ZvXC9tYUZLcGs1RzJucXdJcUs3K2ZJU08ra21zZlh1SzZCTGVQeTNJUldVSndXZW1XbGR3aHp2VHFreGdaUT09IiwibWFjIjoiZmJmYTg2MWVjNzM3MDc2YTAzZmEyODliNzY5M2RjYmZkNDM1NTEyNDYwNWM0ZmIwMDcyNmRjYWJiNWNmZWNiOCJ9; footprint_calculator_31_session=eyJpdiI6IkJMUWFLYm5CYjBUYVFUXC8wbXZNandRPT0iLCJ2YWx1ZSI6ImtRT0lybVwvdTRZNjRoRG5QZ29EZm5lWmVBdlwvSmFaZVROWXFsc2g3djZnSVpHXC9MS3lFcVFjeEtWYXRkY1VMNk9zaDRhd1A2amxUa0RKWHNUXC8xVDhuZz09IiwibWFjIjoiOTU3MmRlNWZlZGE5MmViYTY2ZmMyYzVhN2Y3NGNlOTFlOTU4NjQxZTUxMTFkMWNkM2ZmYTQ1NGRiYjM1MjcwNiJ9; __utma=254353495.997028417.1555148484.1555148485.1555148485.1; __utmc=254353495; __utmz=254353495.1555148485.1.1.utmcsr=(direct)|utmccn=(direct)|utmcmd=(none); __utmt=1; __utmb=254353495.1.10.1555148485',\n",
    "    'accept-language': 'en-US,en;q=0.9,fr;q=0.8',\n",
    "    'x-requested-with': 'XMLHttpRequest',\n",
    "    'origin': 'https://footprint.wwf.org.uk',\n",
    "    'accept-encoding': 'gzip, deflate, br',\n",
    "    'user-agent': 'Mozilla/5.0 (X11; Linux x86_64) AppleWebKit/537.36 (KHTML, like Gecko) Chrome/65.0.3325.181 Safari/537.36',\n",
    "    'accept': 'application/json, text/plain, */*',\n",
    "    'referer': 'https://footprint.wwf.org.uk/',\n",
    "    'authority': 'footprint.wwf.org.uk',\n",
    "    'dnt': '1',\n",
    "    }\n",
    "    response = requests.post('https://footprint.wwf.org.uk/api/onscreen/carbon/footprint', headers=headers)\n",
    "    return response.content\n",
    "\n",
    "#function to create a permutation (set of answers) and get a survey response/calculation\n",
    "def permute(array,q_array,pos=0,results=[]):\n",
    "    if pos==len(array)-1:\n",
    "        return results\n",
    "    \n",
    "    if array[pos] >= q_array[pos]:\n",
    "        return permute(array,q_array,pos+1,results)\n",
    "    \n",
    "    get_permutation(q_array,array,sections)\n",
    "    carbon_footprint = get_answer()\n",
    "    temp_array = list(array)\n",
    "    temp_array.append(carbon_footprint)\n",
    "    results.append(temp_array)\n",
    "    array[pos] += 1\n",
    "    return permute(array,q_array,pos,results)\n",
    "\n",
    "#results = permute(array,q_array,0)\n",
    "get_permutation(q_array,array,sections)\n",
    "carbon_footprint = get_answer()\n",
    "\n",
    "get_permutation(q_array,q_array,sections)\n",
    "carbon_footprint2 = get_answer()"
   ]
  },
  {
   "cell_type": "code",
   "execution_count": 4,
   "metadata": {},
   "outputs": [
    {
     "name": "stdout",
     "output_type": "stream",
     "text": [
      "b''\n",
      "b''\n"
     ]
    }
   ],
   "source": [
    "print(carbon_footprint)\n",
    "print(carbon_footprint2)"
   ]
  },
  {
   "cell_type": "code",
   "execution_count": 5,
   "metadata": {},
   "outputs": [
    {
     "name": "stdout",
     "output_type": "stream",
     "text": [
      "200\n",
      "b''\n"
     ]
    },
    {
     "data": {
      "text/plain": [
       "b''"
      ]
     },
     "execution_count": 5,
     "metadata": {},
     "output_type": "execute_result"
    }
   ],
   "source": [
    "get_answer()"
   ]
  },
  {
   "cell_type": "code",
   "execution_count": 6,
   "metadata": {},
   "outputs": [
    {
     "name": "stderr",
     "output_type": "stream",
     "text": [
      "/usr/lib/python3.5/importlib/_bootstrap.py:222: RuntimeWarning: numpy.dtype size changed, may indicate binary incompatibility. Expected 96, got 88\n",
      "  return f(*args, **kwds)\n"
     ]
    },
    {
     "ename": "NameError",
     "evalue": "name 'results' is not defined",
     "output_type": "error",
     "traceback": [
      "\u001b[0;31m---------------------------------------------------------------------------\u001b[0m",
      "\u001b[0;31mNameError\u001b[0m                                 Traceback (most recent call last)",
      "\u001b[0;32m<ipython-input-6-710dfa9497b0>\u001b[0m in \u001b[0;36m<module>\u001b[0;34m\u001b[0m\n\u001b[1;32m      1\u001b[0m \u001b[0;32mimport\u001b[0m \u001b[0mpandas\u001b[0m \u001b[0;32mas\u001b[0m \u001b[0mpd\u001b[0m\u001b[0;34m\u001b[0m\u001b[0m\n\u001b[0;32m----> 2\u001b[0;31m \u001b[0mresults\u001b[0m \u001b[0;34m=\u001b[0m \u001b[0mpd\u001b[0m\u001b[0;34m.\u001b[0m\u001b[0mDataFrame\u001b[0m\u001b[0;34m(\u001b[0m\u001b[0mresults\u001b[0m\u001b[0;34m)\u001b[0m\u001b[0;34m\u001b[0m\u001b[0m\n\u001b[0m",
      "\u001b[0;31mNameError\u001b[0m: name 'results' is not defined"
     ]
    }
   ],
   "source": [
    "import pandas as pd\n",
    "results = pd.DataFrame(results)"
   ]
  },
  {
   "cell_type": "code",
   "execution_count": null,
   "metadata": {
    "scrolled": true
   },
   "outputs": [],
   "source": [
    "for row in results.iterrows():\n",
    "    print(row[1][25])"
   ]
  },
  {
   "cell_type": "code",
   "execution_count": null,
   "metadata": {},
   "outputs": [],
   "source": [
    "import requests\n",
    "\n",
    "headers = {\n",
    "    'origin': 'https://footprint.wwf.org.uk',\n",
    "    #'x-xsrf-token': 'eyJpdiI6Im1kTHhXK3daUFgyYjR4b0E3SFE2NVE9PSIsInZhbHVlIjoidUNGTHJYMDJzM0JXVjdIQzJnYThRR3RlSUlBUmJOWkRsZHFQaSs5YVJkYTRkeCtnVlBqQk85QUpPOFJ5UFRWWlhnYXl3WkpETWtDOEFpZ2cwdDROcWc9PSIsIm1hYyI6ImE1MGFhOTRhNmJjNTM0YjJiMDFkMDk4NzZmNDA4ZjQzMjZmYTcyNDA3NmI2MTc0ZGMxNjlmYmU5ZGQ2NWM1ZTMifQ==',\n",
    "    #'x-csrf-token': 'KotBWpgXB64uj7Z1ptnWz4g3YypHgp3IziQSKaxA',\n",
    "    'accept-language': 'en-US,en;q=0.9,fr;q=0.8',\n",
    "    'x-requested-with': 'XMLHttpRequest',\n",
    "    'cookie': 'questionnaire_id=SmUTMqIoC9lJMJ7uBGWLiMIghB5F8B9CeAlNp3jq; newsletter=eyJpdiI6InNIVmx5VzdJMmV2MXVZOGs0cjBVYWc9PSIsInZhbHVlIjoibXJcL2FVSjFWOHpuVGgxZGtTczRxeVE9PSIsIm1hYyI6IjNmYzYxZmYyYjVmNzRjMDBjMTkxYzUxZTE0NzBhYjNmNjI2OTZjODg3ODI0NTVjNzE1M2RjNTI3NjAyYWFlYWMifQ%3D%3D; _ga=GA1.3.394886007.1554753449; __utmz=254353495.1554753450.1.1.utmcsr=(direct)|utmccn=(direct)|utmcmd=(none); cookieconsent_status=dismiss; _gid=GA1.3.2125864526.1554921453; _gat=1; __utma=254353495.394886007.1554753449.1554921453.1555009326.4; __utmc=254353495; __utmt=1; XSRF-TOKEN=eyJpdiI6InNzbHRcL0FMMlwvOEhkbWN3YjJnc05QUT09IiwidmFsdWUiOiJyaHRDZkcxa2xqQmMyZGZuZ0JYUVQxd200UDdpdHdOUlU4cCtSXC9mNnpCTFViMVoyUk1YY2I5aVJraVVGK1wvbVRqTEg3TDlXVzZQaE82em03UW5iVlwvZz09IiwibWFjIjoiYjRhODZlYTBjMzcxOTgzZmZkYTEwZTIzN2ViMjM5MDFiYWFmYzI3Zjc0YTViMjhmZjMyNmZhZmViNzE1NzQxYSJ9; footprint_calculator_31_session=eyJpdiI6Ik9rSHZFeERIaldnTURERml2MkQwaXc9PSIsInZhbHVlIjoidFhoakhRckhNSHIrTnBDTFwvMnFUYjRpbzUra05keWpFUmExbFVKbWhlR1dMSWw1WGFteUZJYWJPeHBUMDhpT01QNjJ1WXdjbkk1YkpIYUNjRDZ1NmpBPT0iLCJtYWMiOiJkYmQxNGM4MDdiMTNmMDI4ZDM1NGU1NDkwMjczYTgyMjIzOTdiNDViOTZmYjdkZmM4OGY2MjNjODc5MDA2NGU5In0%3D; __utmb=254353495.2.10.1555009326',\n",
    "    'origin': 'https://footprint.wwf.org.uk',\n",
    "    'accept-encoding': 'gzip, deflate, br',\n",
    "    'user-agent': 'Mozilla/5.0 (X11; Linux x86_64) AppleWebKit/537.36 (KHTML, like Gecko) Chrome/65.0.3325.181 Safari/537.36',\n",
    "    'accept': 'application/json, text/plain, */*',\n",
    "    'referer': 'https://footprint.wwf.org.uk/',\n",
    "    'authority': 'footprint.wwf.org.uk',\n",
    "    'dnt': '1',\n",
    "}\n",
    "\n",
    "response = requests.post('https://footprint.wwf.org.uk/api/onscreen/carbon/footprint', headers=headers)"
   ]
  },
  {
   "cell_type": "code",
   "execution_count": null,
   "metadata": {},
   "outputs": [],
   "source": [
    "response.content"
   ]
  },
  {
   "cell_type": "code",
   "execution_count": null,
   "metadata": {},
   "outputs": [],
   "source": []
  }
 ],
 "metadata": {
  "kernelspec": {
   "display_name": "Python 3",
   "language": "python",
   "name": "python3"
  },
  "language_info": {
   "codemirror_mode": {
    "name": "ipython",
    "version": 3
   },
   "file_extension": ".py",
   "mimetype": "text/x-python",
   "name": "python",
   "nbconvert_exporter": "python",
   "pygments_lexer": "ipython3",
   "version": "3.5.2"
  }
 },
 "nbformat": 4,
 "nbformat_minor": 2
}
